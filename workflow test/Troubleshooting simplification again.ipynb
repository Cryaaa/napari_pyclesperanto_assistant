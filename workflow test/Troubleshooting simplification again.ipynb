{
 "cells": [
  {
   "cell_type": "code",
   "execution_count": 1,
   "id": "a2d70aa6",
   "metadata": {},
   "outputs": [
    {
     "name": "stdout",
     "output_type": "stream",
     "text": [
      "Workflow:\n",
      "Result of Black top-hat (scipy, nsbatwm) <- (<function black_tophat at 0x000001F4A9EEA830>, 'Result of Gaussian (scikit-image, nsbatwm) [1]', 19.0)\n",
      "Result of Gaussian (scikit-image, nsbatwm) <- (<function gaussian_blur at 0x000001F4A9EEA290>, 'blobs', 6.0)\n",
      "Result of Gaussian (scikit-image, nsbatwm) [1] <- (<function gaussian_blur at 0x000001F4A9EEA290>, 'blobs_messed_up', 4.0)\n",
      "Result of Multiply images (numpy, nsbatwm) <- (<function multiply_images at 0x000001F4A9EEB880>, 'Result of Black top-hat (scipy, nsbatwm)', 'Result of Gaussian (scikit-image, nsbatwm)')\n",
      "\n"
     ]
    }
   ],
   "source": [
    "import napari_workflows\n",
    "from napari_workflows._io_yaml_v1 import load_workflow\n",
    "import napari\n",
    "import napari_pyclesperanto_assistant\n",
    "from napari_pyclesperanto_assistant._workflow_io_utility import *\n",
    "from skimage.io import imread\n",
    "import numpy as np\n",
    "\n",
    "filename = 'test_workflow_multiple_nodes_multiply.yaml'\n",
    "workflow = load_workflow(filename)\n",
    "print(workflow)"
   ]
  },
  {
   "cell_type": "code",
   "execution_count": 2,
   "id": "7b65a4c6",
   "metadata": {},
   "outputs": [
    {
     "name": "stderr",
     "output_type": "stream",
     "text": [
      "C:\\Users\\ryans\\anaconda3\\envs\\np_workflows_v1\\lib\\site-packages\\napari_tools_menu\\__init__.py:165: FutureWarning: Public access to Window.qt_viewer is deprecated and will be removed in\n",
      "v0.5.0. It is considered an \"implementation detail\" of the napari\n",
      "application, not part of the napari viewer model. If your use case\n",
      "requires access to qt_viewer, please open an issue to discuss.\n",
      "  self.tools_menu = ToolsMenu(self, self.qt_viewer.viewer)\n"
     ]
    },
    {
     "data": {
      "text/plain": [
       "<Image layer 'image2' at 0x1f4a9b33b50>"
      ]
     },
     "execution_count": 2,
     "metadata": {},
     "output_type": "execute_result"
    }
   ],
   "source": [
    "desktop = 'C:/Users/ryans/Desktop/'\n",
    "image1 = imread(desktop + 'blobs.tif')\n",
    "image2 = imread(desktop + 'blobs_messed_up.tiff')\n",
    "\n",
    "viewer = napari.Viewer()\n",
    "viewer.add_image(image1)\n",
    "viewer.add_image(image2)"
   ]
  },
  {
   "cell_type": "code",
   "execution_count": 3,
   "id": "84ed5f1f",
   "metadata": {},
   "outputs": [
    {
     "ename": "ValueError",
     "evalue": "'blobs' is not a valid choice. must be in ()",
     "output_type": "error",
     "traceback": [
      "\u001b[1;31m---------------------------------------------------------------------------\u001b[0m",
      "\u001b[1;31mValueError\u001b[0m                                Traceback (most recent call last)",
      "Input \u001b[1;32mIn [3]\u001b[0m, in \u001b[0;36m<module>\u001b[1;34m\u001b[0m\n\u001b[1;32m----> 1\u001b[0m \u001b[43minitialise_root_functions\u001b[49m\u001b[43m(\u001b[49m\u001b[43mworkflow\u001b[49m\u001b[38;5;241;43m=\u001b[39;49m\u001b[43mworkflow\u001b[49m\u001b[43m,\u001b[49m\u001b[43m \u001b[49m\n\u001b[0;32m      2\u001b[0m \u001b[43m                          \u001b[49m\u001b[43mviewer\u001b[49m\u001b[38;5;241;43m=\u001b[39;49m\u001b[43mviewer\u001b[49m\u001b[43m)\u001b[49m\n",
      "File \u001b[1;32mc:\\users\\ryans\\onedrive\\documents\\bia pol stuff\\napari workflow repositories\\napari_pyclesperanto_assistant\\napari_pyclesperanto_assistant\\_workflow_io_utility.py:35\u001b[0m, in \u001b[0;36minitialise_root_functions\u001b[1;34m(workflow, viewer)\u001b[0m\n\u001b[0;32m     31\u001b[0m signat \u001b[38;5;241m=\u001b[39m signature_w_kwargs_from_function(workflow\u001b[38;5;241m=\u001b[39mworkflow,\n\u001b[0;32m     32\u001b[0m                                           wf_step_name\u001b[38;5;241m=\u001b[39mwf_step_name)\n\u001b[0;32m     33\u001b[0m func\u001b[38;5;241m.\u001b[39m__signature__ \u001b[38;5;241m=\u001b[39m signat\n\u001b[1;32m---> 35\u001b[0m widget \u001b[38;5;241m=\u001b[39m \u001b[43mmake_flexible_gui\u001b[49m\u001b[43m(\u001b[49m\u001b[43mfunc\u001b[49m\u001b[43m,\u001b[49m\u001b[43m \u001b[49m\n\u001b[0;32m     36\u001b[0m \u001b[43m                           \u001b[49m\u001b[43mviewer\u001b[49m\u001b[43m,\u001b[49m\u001b[43m \u001b[49m\n\u001b[0;32m     37\u001b[0m \u001b[43m                           \u001b[49m\u001b[43mwf_step_name\u001b[49m\u001b[38;5;241;43m=\u001b[39;49m\u001b[43m \u001b[49m\u001b[43mwf_step_name\u001b[49m\u001b[43m)\u001b[49m\n\u001b[0;32m     38\u001b[0m viewer\u001b[38;5;241m.\u001b[39mwindow\u001b[38;5;241m.\u001b[39madd_dock_widget(widget, name \u001b[38;5;241m=\u001b[39m wf_step_name[\u001b[38;5;241m10\u001b[39m:])\n",
      "File \u001b[1;32mc:\\users\\ryans\\onedrive\\documents\\bia pol stuff\\napari workflow repositories\\napari_pyclesperanto_assistant\\napari_pyclesperanto_assistant\\_workflow_io_utility.py:153\u001b[0m, in \u001b[0;36mmake_flexible_gui\u001b[1;34m(func, viewer, wf_step_name)\u001b[0m\n\u001b[0;32m    150\u001b[0m     \u001b[38;5;28;01melse\u001b[39;00m:\n\u001b[0;32m    151\u001b[0m         \u001b[38;5;28;01mreturn\u001b[39;00m data\n\u001b[1;32m--> 153\u001b[0m gui \u001b[38;5;241m=\u001b[39m \u001b[43mmagicgui\u001b[49m\u001b[43m(\u001b[49m\u001b[43mworker_func\u001b[49m\u001b[43m,\u001b[49m\u001b[43m \u001b[49m\u001b[43mauto_call\u001b[49m\u001b[38;5;241;43m=\u001b[39;49m\u001b[43m \u001b[49m\u001b[38;5;28;43;01mTrue\u001b[39;49;00m\u001b[43m)\u001b[49m\n\u001b[0;32m    154\u001b[0m \u001b[38;5;28;01mreturn\u001b[39;00m gui\n",
      "File \u001b[1;32m~\\anaconda3\\envs\\np_workflows_v1\\lib\\site-packages\\magicgui\\_magicgui.py:90\u001b[0m, in \u001b[0;36mmagicgui\u001b[1;34m(function, layout, labels, tooltips, call_button, auto_call, result_widget, main_window, app, persist, **param_options)\u001b[0m\n\u001b[0;32m     15\u001b[0m \u001b[38;5;28;01mdef\u001b[39;00m \u001b[38;5;21mmagicgui\u001b[39m(\n\u001b[0;32m     16\u001b[0m     function: Callable \u001b[38;5;241m|\u001b[39m \u001b[38;5;28;01mNone\u001b[39;00m \u001b[38;5;241m=\u001b[39m \u001b[38;5;28;01mNone\u001b[39;00m,\n\u001b[0;32m     17\u001b[0m     \u001b[38;5;241m*\u001b[39m,\n\u001b[1;32m   (...)\u001b[0m\n\u001b[0;32m     27\u001b[0m     \u001b[38;5;241m*\u001b[39m\u001b[38;5;241m*\u001b[39mparam_options: \u001b[38;5;28mdict\u001b[39m,\n\u001b[0;32m     28\u001b[0m ):\n\u001b[0;32m     29\u001b[0m     \u001b[38;5;124;03m\"\"\"Return a :class:`FunctionGui` for ``function``.\u001b[39;00m\n\u001b[0;32m     30\u001b[0m \n\u001b[0;32m     31\u001b[0m \u001b[38;5;124;03m    Parameters\u001b[39;00m\n\u001b[1;32m   (...)\u001b[0m\n\u001b[0;32m     88\u001b[0m \u001b[38;5;124;03m    >>> my_function.b.value = 'world'\u001b[39;00m\n\u001b[0;32m     89\u001b[0m \u001b[38;5;124;03m    \"\"\"\u001b[39;00m\n\u001b[1;32m---> 90\u001b[0m     \u001b[38;5;28;01mreturn\u001b[39;00m _magicgui(\u001b[38;5;241m*\u001b[39m\u001b[38;5;241m*\u001b[39m\u001b[38;5;28mlocals\u001b[39m())\n",
      "File \u001b[1;32m~\\anaconda3\\envs\\np_workflows_v1\\lib\\site-packages\\magicgui\\_magicgui.py:246\u001b[0m, in \u001b[0;36m_magicgui\u001b[1;34m(function, factory, widget_init, main_window, **kwargs)\u001b[0m\n\u001b[0;32m    244\u001b[0m     \u001b[38;5;28;01mreturn\u001b[39;00m inner_func\n\u001b[0;32m    245\u001b[0m \u001b[38;5;28;01melse\u001b[39;00m:\n\u001b[1;32m--> 246\u001b[0m     \u001b[38;5;28;01mreturn\u001b[39;00m \u001b[43minner_func\u001b[49m\u001b[43m(\u001b[49m\u001b[43mfunction\u001b[49m\u001b[43m)\u001b[49m\n",
      "File \u001b[1;32m~\\anaconda3\\envs\\np_workflows_v1\\lib\\site-packages\\magicgui\\_magicgui.py:241\u001b[0m, in \u001b[0;36m_magicgui.<locals>.inner_func\u001b[1;34m(func)\u001b[0m\n\u001b[0;32m    236\u001b[0m     \u001b[38;5;28;01mreturn\u001b[39;00m MagicFactory(\n\u001b[0;32m    237\u001b[0m         func, magic_class\u001b[38;5;241m=\u001b[39mmagic_class, widget_init\u001b[38;5;241m=\u001b[39mwidget_init, \u001b[38;5;241m*\u001b[39m\u001b[38;5;241m*\u001b[39mkwargs\n\u001b[0;32m    238\u001b[0m     )\n\u001b[0;32m    239\u001b[0m \u001b[38;5;66;03m# MagicFactory is unnecessary if we are immediately instantiating the widget,\u001b[39;00m\n\u001b[0;32m    240\u001b[0m \u001b[38;5;66;03m# so we shortcut that and just return the FunctionGui here.\u001b[39;00m\n\u001b[1;32m--> 241\u001b[0m \u001b[38;5;28;01mreturn\u001b[39;00m magic_class(func, \u001b[38;5;241m*\u001b[39m\u001b[38;5;241m*\u001b[39mkwargs)\n",
      "File \u001b[1;32m~\\anaconda3\\envs\\np_workflows_v1\\lib\\site-packages\\magicgui\\widgets\\_function_gui.py:173\u001b[0m, in \u001b[0;36mFunctionGui.__init__\u001b[1;34m(self, function, call_button, layout, labels, tooltips, app, visible, auto_call, result_widget, param_options, name, persist, **kwargs)\u001b[0m\n\u001b[0;32m    166\u001b[0m         name \u001b[38;5;241m=\u001b[39m \u001b[38;5;124mf\u001b[39m\u001b[38;5;124m\"\u001b[39m\u001b[38;5;132;01m{\u001b[39;00mfunction\u001b[38;5;241m.\u001b[39m\u001b[38;5;18m__module__\u001b[39m\u001b[38;5;132;01m}\u001b[39;00m\u001b[38;5;124m.\u001b[39m\u001b[38;5;132;01m{\u001b[39;00mfunction\u001b[38;5;241m.\u001b[39m\u001b[38;5;18m__class__\u001b[39m\u001b[38;5;132;01m}\u001b[39;00m\u001b[38;5;124m\"\u001b[39m\n\u001b[0;32m    167\u001b[0m \u001b[38;5;28mself\u001b[39m\u001b[38;5;241m.\u001b[39m_callable_name \u001b[38;5;241m=\u001b[39m name\n\u001b[0;32m    169\u001b[0m \u001b[38;5;28msuper\u001b[39m()\u001b[38;5;241m.\u001b[39m\u001b[38;5;21m__init__\u001b[39m(\n\u001b[0;32m    170\u001b[0m     layout\u001b[38;5;241m=\u001b[39mlayout,\n\u001b[0;32m    171\u001b[0m     labels\u001b[38;5;241m=\u001b[39mlabels,\n\u001b[0;32m    172\u001b[0m     visible\u001b[38;5;241m=\u001b[39mvisible,\n\u001b[1;32m--> 173\u001b[0m     widgets\u001b[38;5;241m=\u001b[39m\u001b[38;5;28mlist\u001b[39m(\u001b[43msig\u001b[49m\u001b[38;5;241;43m.\u001b[39;49m\u001b[43mwidgets\u001b[49m\u001b[43m(\u001b[49m\u001b[43mapp\u001b[49m\u001b[43m)\u001b[49m\u001b[38;5;241m.\u001b[39mvalues()),\n\u001b[0;32m    174\u001b[0m     name\u001b[38;5;241m=\u001b[39mname \u001b[38;5;129;01mor\u001b[39;00m \u001b[38;5;28mself\u001b[39m\u001b[38;5;241m.\u001b[39m_callable_name,\n\u001b[0;32m    175\u001b[0m )\n\u001b[0;32m    176\u001b[0m \u001b[38;5;28mself\u001b[39m\u001b[38;5;241m.\u001b[39m_param_options \u001b[38;5;241m=\u001b[39m param_options\n\u001b[0;32m    177\u001b[0m \u001b[38;5;28mself\u001b[39m\u001b[38;5;241m.\u001b[39m_result_name \u001b[38;5;241m=\u001b[39m \u001b[38;5;124m\"\u001b[39m\u001b[38;5;124m\"\u001b[39m\n",
      "File \u001b[1;32m~\\anaconda3\\envs\\np_workflows_v1\\lib\\site-packages\\magicgui\\signature.py:224\u001b[0m, in \u001b[0;36mMagicSignature.widgets\u001b[1;34m(self, app)\u001b[0m\n\u001b[0;32m    221\u001b[0m \u001b[38;5;28;01mdef\u001b[39;00m \u001b[38;5;21mwidgets\u001b[39m(\u001b[38;5;28mself\u001b[39m, app: AppRef \u001b[38;5;241m=\u001b[39m \u001b[38;5;28;01mNone\u001b[39;00m) \u001b[38;5;241m-\u001b[39m\u001b[38;5;241m>\u001b[39m MappingProxyType:\n\u001b[0;32m    222\u001b[0m     \u001b[38;5;124;03m\"\"\"Return mapping from parameters to widgets for all params in Signature.\"\"\"\u001b[39;00m\n\u001b[0;32m    223\u001b[0m     \u001b[38;5;28;01mreturn\u001b[39;00m MappingProxyType(\n\u001b[1;32m--> 224\u001b[0m         {n: p\u001b[38;5;241m.\u001b[39mto_widget(app) \u001b[38;5;28;01mfor\u001b[39;00m n, p \u001b[38;5;129;01min\u001b[39;00m \u001b[38;5;28mself\u001b[39m\u001b[38;5;241m.\u001b[39mparameters\u001b[38;5;241m.\u001b[39mitems()}\n\u001b[0;32m    225\u001b[0m     )\n",
      "File \u001b[1;32m~\\anaconda3\\envs\\np_workflows_v1\\lib\\site-packages\\magicgui\\signature.py:224\u001b[0m, in \u001b[0;36m<dictcomp>\u001b[1;34m(.0)\u001b[0m\n\u001b[0;32m    221\u001b[0m \u001b[38;5;28;01mdef\u001b[39;00m \u001b[38;5;21mwidgets\u001b[39m(\u001b[38;5;28mself\u001b[39m, app: AppRef \u001b[38;5;241m=\u001b[39m \u001b[38;5;28;01mNone\u001b[39;00m) \u001b[38;5;241m-\u001b[39m\u001b[38;5;241m>\u001b[39m MappingProxyType:\n\u001b[0;32m    222\u001b[0m     \u001b[38;5;124;03m\"\"\"Return mapping from parameters to widgets for all params in Signature.\"\"\"\u001b[39;00m\n\u001b[0;32m    223\u001b[0m     \u001b[38;5;28;01mreturn\u001b[39;00m MappingProxyType(\n\u001b[1;32m--> 224\u001b[0m         {n: \u001b[43mp\u001b[49m\u001b[38;5;241;43m.\u001b[39;49m\u001b[43mto_widget\u001b[49m\u001b[43m(\u001b[49m\u001b[43mapp\u001b[49m\u001b[43m)\u001b[49m \u001b[38;5;28;01mfor\u001b[39;00m n, p \u001b[38;5;129;01min\u001b[39;00m \u001b[38;5;28mself\u001b[39m\u001b[38;5;241m.\u001b[39mparameters\u001b[38;5;241m.\u001b[39mitems()}\n\u001b[0;32m    225\u001b[0m     )\n",
      "File \u001b[1;32m~\\anaconda3\\envs\\np_workflows_v1\\lib\\site-packages\\magicgui\\signature.py:141\u001b[0m, in \u001b[0;36mMagicParameter.to_widget\u001b[1;34m(self, app)\u001b[0m\n\u001b[0;32m    139\u001b[0m value \u001b[38;5;241m=\u001b[39m UNSET \u001b[38;5;28;01mif\u001b[39;00m \u001b[38;5;28mself\u001b[39m\u001b[38;5;241m.\u001b[39mdefault \u001b[38;5;129;01min\u001b[39;00m (\u001b[38;5;28mself\u001b[39m\u001b[38;5;241m.\u001b[39mempty, TZ_EMPTY) \u001b[38;5;28;01melse\u001b[39;00m \u001b[38;5;28mself\u001b[39m\u001b[38;5;241m.\u001b[39mdefault\n\u001b[0;32m    140\u001b[0m annotation, options \u001b[38;5;241m=\u001b[39m split_annotated_type(\u001b[38;5;28mself\u001b[39m\u001b[38;5;241m.\u001b[39mannotation)\n\u001b[1;32m--> 141\u001b[0m widget \u001b[38;5;241m=\u001b[39m \u001b[43mcreate_widget\u001b[49m\u001b[43m(\u001b[49m\n\u001b[0;32m    142\u001b[0m \u001b[43m    \u001b[49m\u001b[43mname\u001b[49m\u001b[38;5;241;43m=\u001b[39;49m\u001b[38;5;28;43mself\u001b[39;49m\u001b[38;5;241;43m.\u001b[39;49m\u001b[43mname\u001b[49m\u001b[43m,\u001b[49m\n\u001b[0;32m    143\u001b[0m \u001b[43m    \u001b[49m\u001b[43mvalue\u001b[49m\u001b[38;5;241;43m=\u001b[39;49m\u001b[43mvalue\u001b[49m\u001b[43m,\u001b[49m\n\u001b[0;32m    144\u001b[0m \u001b[43m    \u001b[49m\u001b[43mannotation\u001b[49m\u001b[38;5;241;43m=\u001b[39;49m\u001b[43mannotation\u001b[49m\u001b[43m,\u001b[49m\n\u001b[0;32m    145\u001b[0m \u001b[43m    \u001b[49m\u001b[43mapp\u001b[49m\u001b[38;5;241;43m=\u001b[39;49m\u001b[43mapp\u001b[49m\u001b[43m,\u001b[49m\n\u001b[0;32m    146\u001b[0m \u001b[43m    \u001b[49m\u001b[43moptions\u001b[49m\u001b[38;5;241;43m=\u001b[39;49m\u001b[43moptions\u001b[49m\u001b[43m,\u001b[49m\n\u001b[0;32m    147\u001b[0m \u001b[43m\u001b[49m\u001b[43m)\u001b[49m\n\u001b[0;32m    148\u001b[0m widget\u001b[38;5;241m.\u001b[39mparam_kind \u001b[38;5;241m=\u001b[39m \u001b[38;5;28mself\u001b[39m\u001b[38;5;241m.\u001b[39mkind\n\u001b[0;32m    149\u001b[0m \u001b[38;5;28;01mreturn\u001b[39;00m widget\n",
      "File \u001b[1;32m~\\anaconda3\\envs\\np_workflows_v1\\lib\\site-packages\\magicgui\\widgets\\_bases\\create_widget.py:91\u001b[0m, in \u001b[0;36mcreate_widget\u001b[1;34m(value, annotation, name, param_kind, label, gui_only, app, widget_type, options)\u001b[0m\n\u001b[0;32m     89\u001b[0m kwargs\u001b[38;5;241m.\u001b[39mupdate(opts)\n\u001b[0;32m     90\u001b[0m kwargs\u001b[38;5;241m.\u001b[39mpop(\u001b[38;5;124m\"\u001b[39m\u001b[38;5;124mwidget_type\u001b[39m\u001b[38;5;124m\"\u001b[39m, \u001b[38;5;28;01mNone\u001b[39;00m)\n\u001b[1;32m---> 91\u001b[0m widget \u001b[38;5;241m=\u001b[39m wdg_class(\u001b[38;5;241m*\u001b[39m\u001b[38;5;241m*\u001b[39mkwargs)\n\u001b[0;32m     92\u001b[0m \u001b[38;5;28;01mif\u001b[39;00m _kind:\n\u001b[0;32m     93\u001b[0m     widget\u001b[38;5;241m.\u001b[39mparam_kind \u001b[38;5;241m=\u001b[39m _kind\n",
      "File \u001b[1;32m~\\anaconda3\\envs\\np_workflows_v1\\lib\\site-packages\\magicgui\\widgets\\_concrete.py:164\u001b[0m, in \u001b[0;36mbackend_widget.<locals>.wrapper.<locals>.__init__\u001b[1;34m(self, **kwargs)\u001b[0m\n\u001b[0;32m    162\u001b[0m     widget \u001b[38;5;241m=\u001b[39m transform(widget)\n\u001b[0;32m    163\u001b[0m kwargs[\u001b[38;5;124m\"\u001b[39m\u001b[38;5;124mwidget_type\u001b[39m\u001b[38;5;124m\"\u001b[39m] \u001b[38;5;241m=\u001b[39m widget\n\u001b[1;32m--> 164\u001b[0m \u001b[38;5;28msuper\u001b[39m(\u001b[38;5;28mcls\u001b[39m, \u001b[38;5;28mself\u001b[39m)\u001b[38;5;241m.\u001b[39m\u001b[38;5;21m__init__\u001b[39m(\u001b[38;5;241m*\u001b[39m\u001b[38;5;241m*\u001b[39mkwargs)\n",
      "File \u001b[1;32m~\\anaconda3\\envs\\np_workflows_v1\\lib\\site-packages\\magicgui\\widgets\\_bases\\categorical_widget.py:27\u001b[0m, in \u001b[0;36mCategoricalWidget.__init__\u001b[1;34m(self, choices, allow_multiple, **kwargs)\u001b[0m\n\u001b[0;32m     25\u001b[0m     \u001b[38;5;28mself\u001b[39m\u001b[38;5;241m.\u001b[39m_allow_multiple \u001b[38;5;241m=\u001b[39m allow_multiple\n\u001b[0;32m     26\u001b[0m \u001b[38;5;28mself\u001b[39m\u001b[38;5;241m.\u001b[39m_default_choices \u001b[38;5;241m=\u001b[39m choices\n\u001b[1;32m---> 27\u001b[0m \u001b[38;5;28msuper\u001b[39m()\u001b[38;5;241m.\u001b[39m\u001b[38;5;21m__init__\u001b[39m(\u001b[38;5;241m*\u001b[39m\u001b[38;5;241m*\u001b[39mkwargs)\n",
      "File \u001b[1;32m~\\anaconda3\\envs\\np_workflows_v1\\lib\\site-packages\\magicgui\\widgets\\_bases\\value_widget.py:45\u001b[0m, in \u001b[0;36mValueWidget.__init__\u001b[1;34m(self, value, bind, nullable, **kwargs)\u001b[0m\n\u001b[0;32m     43\u001b[0m \u001b[38;5;28msuper\u001b[39m()\u001b[38;5;241m.\u001b[39m\u001b[38;5;21m__init__\u001b[39m(\u001b[38;5;241m*\u001b[39m\u001b[38;5;241m*\u001b[39mkwargs)\n\u001b[0;32m     44\u001b[0m \u001b[38;5;28;01mif\u001b[39;00m value \u001b[38;5;129;01mis\u001b[39;00m \u001b[38;5;129;01mnot\u001b[39;00m UNSET:\n\u001b[1;32m---> 45\u001b[0m     \u001b[38;5;28mself\u001b[39m\u001b[38;5;241m.\u001b[39mvalue \u001b[38;5;241m=\u001b[39m value\n\u001b[0;32m     46\u001b[0m \u001b[38;5;28;01mif\u001b[39;00m \u001b[38;5;28mself\u001b[39m\u001b[38;5;241m.\u001b[39m_bound_value \u001b[38;5;129;01mis\u001b[39;00m \u001b[38;5;129;01mnot\u001b[39;00m UNSET \u001b[38;5;129;01mand\u001b[39;00m \u001b[38;5;124m\"\u001b[39m\u001b[38;5;124mvisible\u001b[39m\u001b[38;5;124m\"\u001b[39m \u001b[38;5;129;01mnot\u001b[39;00m \u001b[38;5;129;01min\u001b[39;00m kwargs:\n\u001b[0;32m     47\u001b[0m     \u001b[38;5;28mself\u001b[39m\u001b[38;5;241m.\u001b[39mhide()\n",
      "File \u001b[1;32m~\\anaconda3\\envs\\np_workflows_v1\\lib\\site-packages\\magicgui\\widgets\\_bases\\categorical_widget.py:47\u001b[0m, in \u001b[0;36mCategoricalWidget.value\u001b[1;34m(self, value)\u001b[0m\n\u001b[0;32m     43\u001b[0m         \u001b[38;5;28;01mraise\u001b[39;00m \u001b[38;5;167;01mValueError\u001b[39;00m(\n\u001b[0;32m     44\u001b[0m             \u001b[38;5;124mf\u001b[39m\u001b[38;5;124m\"\u001b[39m\u001b[38;5;132;01m{\u001b[39;00mvalue\u001b[38;5;132;01m!r}\u001b[39;00m\u001b[38;5;124m is not a valid choice. must be in \u001b[39m\u001b[38;5;132;01m{\u001b[39;00m\u001b[38;5;28mself\u001b[39m\u001b[38;5;241m.\u001b[39mchoices\u001b[38;5;132;01m}\u001b[39;00m\u001b[38;5;124m\"\u001b[39m\n\u001b[0;32m     45\u001b[0m         )\n\u001b[0;32m     46\u001b[0m \u001b[38;5;28;01melif\u001b[39;00m value \u001b[38;5;129;01mnot\u001b[39;00m \u001b[38;5;129;01min\u001b[39;00m \u001b[38;5;28mself\u001b[39m\u001b[38;5;241m.\u001b[39mchoices:\n\u001b[1;32m---> 47\u001b[0m     \u001b[38;5;28;01mraise\u001b[39;00m \u001b[38;5;167;01mValueError\u001b[39;00m(\n\u001b[0;32m     48\u001b[0m         \u001b[38;5;124mf\u001b[39m\u001b[38;5;124m\"\u001b[39m\u001b[38;5;132;01m{\u001b[39;00mvalue\u001b[38;5;132;01m!r}\u001b[39;00m\u001b[38;5;124m is not a valid choice. must be in \u001b[39m\u001b[38;5;132;01m{\u001b[39;00m\u001b[38;5;28mself\u001b[39m\u001b[38;5;241m.\u001b[39mchoices\u001b[38;5;132;01m}\u001b[39;00m\u001b[38;5;124m\"\u001b[39m\n\u001b[0;32m     49\u001b[0m     )\n\u001b[0;32m     50\u001b[0m \u001b[38;5;28;01mreturn\u001b[39;00m ValueWidget\u001b[38;5;241m.\u001b[39mvalue\u001b[38;5;241m.\u001b[39mfset(\u001b[38;5;28mself\u001b[39m, value)\n",
      "\u001b[1;31mValueError\u001b[0m: 'blobs' is not a valid choice. must be in ()"
     ]
    }
   ],
   "source": [
    "initialise_root_functions(workflow=workflow, \n",
    "                          viewer=viewer)"
   ]
  },
  {
   "cell_type": "code",
   "execution_count": 6,
   "id": "9e83f964",
   "metadata": {},
   "outputs": [
    {
     "data": {
      "text/plain": [
       "<Signature (*, image: napari.types.ImageData = 'blobs', sigma: float = 6.0, viewer: napari.viewer.Viewer = None) -> napari.types.ImageData>"
      ]
     },
     "execution_count": 6,
     "metadata": {},
     "output_type": "execute_result"
    }
   ],
   "source": [
    "func = workflow._tasks['Result of Gaussian (scikit-image, nsbatwm)'][0]\n",
    "        \n",
    "signat = signature_w_kwargs_from_function(workflow=workflow,\n",
    "                                          wf_step_name='Result of Gaussian (scikit-image, nsbatwm)')\n",
    "\n",
    "signat"
   ]
  },
  {
   "cell_type": "code",
   "execution_count": 7,
   "id": "26f6f35f",
   "metadata": {},
   "outputs": [
    {
     "data": {
      "text/plain": [
       "['blobs']"
      ]
     },
     "execution_count": 7,
     "metadata": {},
     "output_type": "execute_result"
    }
   ],
   "source": [
    "workflow.sources_of('Result of Gaussian (scikit-image, nsbatwm)')"
   ]
  },
  {
   "cell_type": "code",
   "execution_count": 26,
   "id": "e9aa8029",
   "metadata": {},
   "outputs": [
    {
     "data": {
      "text/plain": [
       "{'image': 'blobs', 'sigma': 6.0}"
      ]
     },
     "execution_count": 26,
     "metadata": {},
     "output_type": "execute_result"
    }
   ],
   "source": [
    "wf_step_name = 'Result of Gaussian (scikit-image, nsbatwm)'\n",
    "func     = workflow._tasks[wf_step_name][0]\n",
    "arg_vals = workflow._tasks[wf_step_name][1:] \n",
    "# getting the keywords corresponding to the values\n",
    "keyword_list = list(signature(func).parameters.keys())\n",
    "\n",
    "# creating the kwargs dict\n",
    "kw_dict = {}\n",
    "for kw, val in zip(keyword_list, arg_vals):\n",
    "    kw_dict[kw] = val\n",
    "\n",
    "kw_dict"
   ]
  },
  {
   "cell_type": "code",
   "execution_count": 27,
   "id": "93b16e0b",
   "metadata": {},
   "outputs": [
    {
     "data": {
      "text/plain": [
       "['image', 'sigma']"
      ]
     },
     "execution_count": 27,
     "metadata": {},
     "output_type": "execute_result"
    }
   ],
   "source": [
    "dict_keys = list(kw_dict.keys())\n",
    "dict_keys"
   ]
  },
  {
   "cell_type": "code",
   "execution_count": 28,
   "id": "6f2b258a",
   "metadata": {},
   "outputs": [
    {
     "data": {
      "text/plain": [
       "{'sigma': 6.0}"
      ]
     },
     "execution_count": 28,
     "metadata": {},
     "output_type": "execute_result"
    }
   ],
   "source": [
    "input_image_names = workflow.sources_of(wf_step_name)\n",
    "\n",
    "for name in dict_keys:\n",
    "    if ((kw_dict[name] in input_image_names) and (name != 'viewer')):\n",
    "        kw_dict.pop(name) # we are making an assumption that the input will aways be this\n",
    "        \n",
    "kw_dict"
   ]
  },
  {
   "cell_type": "code",
   "execution_count": 12,
   "id": "3aa9a487",
   "metadata": {},
   "outputs": [
    {
     "data": {
      "text/plain": [
       "['blobs']"
      ]
     },
     "execution_count": 12,
     "metadata": {},
     "output_type": "execute_result"
    }
   ],
   "source": [
    "input_image_names"
   ]
  },
  {
   "cell_type": "code",
   "execution_count": 13,
   "id": "b40da8c5",
   "metadata": {},
   "outputs": [
    {
     "data": {
      "text/plain": [
       "['image', 'sigma', 'viewer']"
      ]
     },
     "execution_count": 13,
     "metadata": {},
     "output_type": "execute_result"
    }
   ],
   "source": [
    "keyword_list"
   ]
  },
  {
   "cell_type": "code",
   "execution_count": null,
   "id": "b1717fee",
   "metadata": {},
   "outputs": [],
   "source": []
  }
 ],
 "metadata": {
  "kernelspec": {
   "display_name": "Python 3 (ipykernel)",
   "language": "python",
   "name": "python3"
  },
  "language_info": {
   "codemirror_mode": {
    "name": "ipython",
    "version": 3
   },
   "file_extension": ".py",
   "mimetype": "text/x-python",
   "name": "python",
   "nbconvert_exporter": "python",
   "pygments_lexer": "ipython3",
   "version": "3.10.2"
  }
 },
 "nbformat": 4,
 "nbformat_minor": 5
}
