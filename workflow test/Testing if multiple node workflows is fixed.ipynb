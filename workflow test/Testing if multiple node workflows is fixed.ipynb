{
 "cells": [
  {
   "cell_type": "code",
   "execution_count": 13,
   "id": "fb28cc94",
   "metadata": {},
   "outputs": [
    {
     "name": "stdout",
     "output_type": "stream",
     "text": [
      "Workflow:\n",
      "Result of Gaussian (scikit-image, nsbatwm) <- (<function gaussian_blur at 0x0000020A8F47A560>, 'blobs', 5.0)\n",
      "Result of Gaussian (scikit-image, nsbatwm) [1] <- (<function gaussian_blur at 0x0000020A8F47A560>, 'blobs_messed_up', 13.0)\n",
      "Result of Seeded watershed using local minima as seeds (nsbatwm) <- (<function local_minima_seeded_watershed at 0x0000020A8F47B7F0>, 'Result of Gaussian (scikit-image, nsbatwm)', 2.0, 2.0)\n",
      "Result of White top-hat (scipy, nsbatwm) <- (<function white_tophat at 0x0000020A8F47A9E0>, 'Result of Gaussian (scikit-image, nsbatwm) [1]', 21.0)\n",
      "\n"
     ]
    }
   ],
   "source": [
    "import napari_workflows\n",
    "from napari_workflows._io_yaml_v1 import load_workflow\n",
    "import napari\n",
    "import napari_pyclesperanto_assistant\n",
    "from napari_pyclesperanto_assistant._workflow_io_utility import *\n",
    "from skimage.io import imread\n",
    "\n",
    "filename = 'test_workflow_multiple_nodes_no_sum.yaml'\n",
    "workflow = load_workflow(filename)\n",
    "print(workflow)"
   ]
  },
  {
   "cell_type": "code",
   "execution_count": 14,
   "id": "d50e2e91",
   "metadata": {},
   "outputs": [
    {
     "data": {
      "text/plain": [
       "{'Result of Gaussian (scikit-image, nsbatwm)': 'gaussian_blur result',\n",
       " 'Result of Gaussian (scikit-image, nsbatwm) [1]': 'gaussian_blur result',\n",
       " 'Result of Seeded watershed using local minima as seeds (nsbatwm)': 'local_minima_seeded_watershed result',\n",
       " 'Result of White top-hat (scipy, nsbatwm)': 'white_tophat result'}"
      ]
     },
     "execution_count": 14,
     "metadata": {},
     "output_type": "execute_result"
    }
   ],
   "source": [
    "mapping = old_wf_names_to_new_mapping(workflow=workflow)\n",
    "mapping"
   ]
  },
  {
   "cell_type": "code",
   "execution_count": 15,
   "id": "b3a7ca24",
   "metadata": {},
   "outputs": [
    {
     "data": {
      "text/plain": [
       "{'Result of Gaussian (scikit-image, nsbatwm)': 'gaussian_blur',\n",
       " 'Result of Gaussian (scikit-image, nsbatwm) [1]': 'gaussian_blur [1]',\n",
       " 'Result of Seeded watershed using local minima as seeds (nsbatwm)': 'local_minima_seeded_watershed',\n",
       " 'Result of White top-hat (scipy, nsbatwm)': 'white_tophat'}"
      ]
     },
     "execution_count": 15,
     "metadata": {},
     "output_type": "execute_result"
    }
   ],
   "source": [
    "func_mapping = function_name_mapping(workflow)\n",
    "func_mapping"
   ]
  },
  {
   "cell_type": "code",
   "execution_count": 16,
   "id": "754111c1",
   "metadata": {
    "scrolled": true
   },
   "outputs": [
    {
     "name": "stderr",
     "output_type": "stream",
     "text": [
      "C:\\Users\\ryans\\anaconda3\\envs\\np_workflows_v1\\lib\\site-packages\\napari_tools_menu\\__init__.py:165: FutureWarning: Public access to Window.qt_viewer is deprecated and will be removed in\n",
      "v0.5.0. It is considered an \"implementation detail\" of the napari\n",
      "application, not part of the napari viewer model. If your use case\n",
      "requires access to qt_viewer, please open an issue to discuss.\n",
      "  self.tools_menu = ToolsMenu(self, self.qt_viewer.viewer)\n"
     ]
    },
    {
     "data": {
      "text/plain": [
       "<Image layer 'image2' at 0x20a99e9bbe0>"
      ]
     },
     "execution_count": 16,
     "metadata": {},
     "output_type": "execute_result"
    }
   ],
   "source": [
    "desktop = 'C:/Users/ryans/Desktop/'\n",
    "image1 = imread(desktop + 'blobs.tif')\n",
    "image2 = imread(desktop + 'blobs_messed_up.tiff')\n",
    "\n",
    "viewer = napari.Viewer()\n",
    "viewer.add_image(image1)\n",
    "viewer.add_image(image2)"
   ]
  },
  {
   "cell_type": "code",
   "execution_count": 17,
   "id": "c38679e2",
   "metadata": {},
   "outputs": [],
   "source": [
    "initialise_root_functions(workflow=workflow, \n",
    "                          viewer=viewer,\n",
    "                          func_name_mapping = func_mapping)"
   ]
  },
  {
   "cell_type": "code",
   "execution_count": null,
   "id": "5e26a71b",
   "metadata": {},
   "outputs": [],
   "source": []
  }
 ],
 "metadata": {
  "kernelspec": {
   "display_name": "Python 3 (ipykernel)",
   "language": "python",
   "name": "python3"
  },
  "language_info": {
   "codemirror_mode": {
    "name": "ipython",
    "version": 3
   },
   "file_extension": ".py",
   "mimetype": "text/x-python",
   "name": "python",
   "nbconvert_exporter": "python",
   "pygments_lexer": "ipython3",
   "version": "3.10.2"
  }
 },
 "nbformat": 4,
 "nbformat_minor": 5
}
