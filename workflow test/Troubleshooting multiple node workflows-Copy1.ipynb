{
 "cells": [
  {
   "cell_type": "code",
   "execution_count": 1,
   "id": "236726b0",
   "metadata": {},
   "outputs": [
    {
     "name": "stdout",
     "output_type": "stream",
     "text": [
      "Workflow:\n",
      "Result of Gaussian (scikit-image, nsbatwm) <- (<function gaussian_blur at 0x000002748B32E170>, 'blobs_messed_up', 4.0)\n",
      "Result of Gaussian (scikit-image, nsbatwm) [1] <- (<function gaussian_blur at 0x000002748B32E170>, 'blobs', 3.0)\n",
      "Result of Maximum (scipy, nsbatwm) <- (<function maximum_filter at 0x000002748B32E950>, 'Result of Gaussian (scikit-image, nsbatwm)', 24.0)\n",
      "Result of Sum images (numpy, nsbatwm) <- (<function sum_images at 0x000002748B32F640>, 'Result of Gaussian (scikit-image, nsbatwm) [1]', 'Result of Maximum (scipy, nsbatwm)', 1.0, 1)\n",
      "\n"
     ]
    }
   ],
   "source": [
    "import napari_workflows\n",
    "from napari_workflows._io_yaml_v1 import load_workflow\n",
    "import napari\n",
    "import napari_pyclesperanto_assistant\n",
    "from napari_pyclesperanto_assistant._workflow_io_utility import *\n",
    "from skimage.io import imread\n",
    "\n",
    "filename = 'test_workflow_multiple_nodes.yaml'\n",
    "workflow = load_workflow(filename)\n",
    "print(workflow)"
   ]
  },
  {
   "cell_type": "code",
   "execution_count": 2,
   "id": "0a816ba5",
   "metadata": {},
   "outputs": [
    {
     "name": "stderr",
     "output_type": "stream",
     "text": [
      "C:\\Users\\ryans\\anaconda3\\envs\\np_workflows_v1\\lib\\site-packages\\napari_tools_menu\\__init__.py:165: FutureWarning: Public access to Window.qt_viewer is deprecated and will be removed in\n",
      "v0.5.0. It is considered an \"implementation detail\" of the napari\n",
      "application, not part of the napari viewer model. If your use case\n",
      "requires access to qt_viewer, please open an issue to discuss.\n",
      "  self.tools_menu = ToolsMenu(self, self.qt_viewer.viewer)\n"
     ]
    },
    {
     "data": {
      "text/plain": [
       "<Image layer 'image2' at 0x274e2e8ded0>"
      ]
     },
     "execution_count": 2,
     "metadata": {},
     "output_type": "execute_result"
    }
   ],
   "source": [
    "desktop = 'C:/Users/ryans/Desktop/'\n",
    "#desktop = 'C:/Users/ryans/Onedrive/Desktop/'\n",
    "\n",
    "image1 = imread(desktop + 'blobs.tif')\n",
    "image2 = imread(desktop + 'blobs_messed_up.tiff')\n",
    "\n",
    "viewer = napari.Viewer()\n",
    "viewer.add_image(image1)\n",
    "viewer.add_image(image2)"
   ]
  },
  {
   "cell_type": "code",
   "execution_count": 3,
   "id": "c77a52ac",
   "metadata": {},
   "outputs": [],
   "source": [
    "initialise_root_functions(workflow=workflow, \n",
    "                          viewer=viewer)"
   ]
  },
  {
   "cell_type": "code",
   "execution_count": 4,
   "id": "f9893663",
   "metadata": {},
   "outputs": [
    {
     "name": "stdout",
     "output_type": "stream",
     "text": [
      "followers looks like ['Result of Maximum (scipy, nsbatwm)', 'Result of Sum images (numpy, nsbatwm)']\n",
      "iteration number0, current follower Result of Maximum (scipy, nsbatwm)\n",
      "new foller is ['Result of Sum images (numpy, nsbatwm)']\n",
      "followers looks like ['Result of Maximum (scipy, nsbatwm)', 'Result of Sum images (numpy, nsbatwm)']\n",
      "iteration number1, current follower Result of Sum images (numpy, nsbatwm)\n",
      "new foller is []\n",
      "followers looks like ['Result of Maximum (scipy, nsbatwm)', 'Result of Sum images (numpy, nsbatwm)']\n"
     ]
    }
   ],
   "source": [
    "root_functions = wf_steps_with_root_as_input(workflow)\n",
    "layers = viewer.layers\n",
    "\n",
    "followers = []\n",
    "for root in root_functions:\n",
    "    followers += workflow.followers_of(root)\n",
    "print(f'followers looks like {followers}')\n",
    "\n",
    "for i,follower in enumerate(followers):\n",
    "    print(f'iteration number{i}, current follower {follower}')\n",
    "    \n",
    "    layer_names = [str(lay) for lay in layers]\n",
    "    sources = workflow.sources_of(follower)\n",
    "\n",
    "    # checking if we have all input images to the function in the napari layers\n",
    "    sources_present = True\n",
    "    for source in sources:\n",
    "        if source not in layer_names:\n",
    "            sources_present = False\n",
    "\n",
    "    # if some input images are missing we will process other images first\n",
    "    if not sources_present:\n",
    "        print(f'we are here because of {follower} and the sources {sources}')\n",
    "        if follower not in followers[i+1:]:\n",
    "            followers.append(follower)\n",
    "            print(f'appended {follower} because {sources} includes non existing layer')\n",
    "    # if all input images are there we can continue\n",
    "    else:\n",
    "        func = workflow._tasks[follower][0]\n",
    "        signat = signature_w_kwargs_from_function(workflow=workflow,\n",
    "                                                  wf_step_name=follower)\n",
    "        func.__signature__ = signat\n",
    "\n",
    "        if len(sources) > 1:\n",
    "            widget = make_flexible_gui(func, \n",
    "                                       viewer, \n",
    "                                       follower,\n",
    "                                       autocall= False)\n",
    "        else:\n",
    "            widget = make_flexible_gui(func, \n",
    "                                       viewer, \n",
    "                                       follower)\n",
    "\n",
    "        viewer.window.add_dock_widget(widget, name= follower[10:])\n",
    "        set_choices(workflow= workflow,\n",
    "                    wf_step= follower,\n",
    "                    viewer= viewer,\n",
    "                    widget= widget)\n",
    "        widget()\n",
    "\n",
    "        new_follower = workflow.followers_of(follower)\n",
    "        print(f'new foller is {new_follower}')\n",
    "        if follower not in followers[i:]:\n",
    "            print('new follower appended')\n",
    "            followers += new_follower\n",
    "        print(f'followers looks like {followers}')\n"
   ]
  },
  {
   "cell_type": "code",
   "execution_count": null,
   "id": "284aa3de",
   "metadata": {},
   "outputs": [],
   "source": []
  }
 ],
 "metadata": {
  "kernelspec": {
   "display_name": "Python 3 (ipykernel)",
   "language": "python",
   "name": "python3"
  },
  "language_info": {
   "codemirror_mode": {
    "name": "ipython",
    "version": 3
   },
   "file_extension": ".py",
   "mimetype": "text/x-python",
   "name": "python",
   "nbconvert_exporter": "python",
   "pygments_lexer": "ipython3",
   "version": "3.10.2"
  }
 },
 "nbformat": 4,
 "nbformat_minor": 5
}
