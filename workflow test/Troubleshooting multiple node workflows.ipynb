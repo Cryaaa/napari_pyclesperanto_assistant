{
 "cells": [
  {
   "cell_type": "code",
   "execution_count": 1,
   "id": "236726b0",
   "metadata": {},
   "outputs": [
    {
     "name": "stdout",
     "output_type": "stream",
     "text": [
      "Workflow:\n",
      "Result of Gaussian (scikit-image, nsbatwm) <- (<function gaussian_blur at 0x000001502E24A290>, 'blobs_messed_up', 4.0)\n",
      "Result of Gaussian (scikit-image, nsbatwm) [1] <- (<function gaussian_blur at 0x000001502E24A290>, 'blobs', 3.0)\n",
      "Result of Maximum (scipy, nsbatwm) <- (<function maximum_filter at 0x000001502E24AA70>, 'Result of Gaussian (scikit-image, nsbatwm)', 24.0)\n",
      "Result of Sum images (numpy, nsbatwm) <- (<function sum_images at 0x000001502E24B760>, 'Result of Gaussian (scikit-image, nsbatwm) [1]', 'Result of Maximum (scipy, nsbatwm)', 1.0, 1)\n",
      "\n"
     ]
    }
   ],
   "source": [
    "import napari_workflows\n",
    "from napari_workflows._io_yaml_v1 import load_workflow\n",
    "import napari\n",
    "import napari_pyclesperanto_assistant\n",
    "from napari_pyclesperanto_assistant._workflow_io_utility import old_wf_names_to_new_mapping, wf_steps_with_root_as_input, initialise_root_functions\n",
    "from skimage.io import imread\n",
    "\n",
    "filename = 'test_workflow_multiple_nodes.yaml'\n",
    "workflow = load_workflow(filename)\n",
    "print(workflow)"
   ]
  },
  {
   "cell_type": "code",
   "execution_count": null,
   "id": "0a816ba5",
   "metadata": {},
   "outputs": [],
   "source": [
    "desktop = 'C:/Users/ryans/Desktop/'\n",
    "image1 = imread(desktop + 'blobs.tif')\n",
    "image2 = imread(desktop + 'blobs_messed_up.tiff')\n",
    "\n",
    "viewer = napari.Viewer()\n",
    "viewer.add_image(image1)\n",
    "viewer.add_image(image2)"
   ]
  },
  {
   "cell_type": "code",
   "execution_count": 3,
   "id": "c77a52ac",
   "metadata": {},
   "outputs": [],
   "source": [
    "root_functions = wf_steps_with_root_as_input(workflow=workflow)\n",
    "initialise_root_functions(workflow=workflow, \n",
    "                          viewer=viewer)"
   ]
  },
  {
   "cell_type": "code",
   "execution_count": null,
   "id": "f9893663",
   "metadata": {},
   "outputs": [],
   "source": [
    "from napari_pyclesperanto_assistant._workflow_io_utility import load_remaining_workflow\n",
    "load_remaining_workflow(workflow=workflow,viewer=viewer)"
   ]
  }
 ],
 "metadata": {
  "kernelspec": {
   "display_name": "Python 3 (ipykernel)",
   "language": "python",
   "name": "python3"
  },
  "language_info": {
   "codemirror_mode": {
    "name": "ipython",
    "version": 3
   },
   "file_extension": ".py",
   "mimetype": "text/x-python",
   "name": "python",
   "nbconvert_exporter": "python",
   "pygments_lexer": "ipython3",
   "version": "3.10.2"
  }
 },
 "nbformat": 4,
 "nbformat_minor": 5
}
