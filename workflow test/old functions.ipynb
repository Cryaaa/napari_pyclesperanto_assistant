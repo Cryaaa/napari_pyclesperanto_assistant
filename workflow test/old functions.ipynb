{
 "cells": [
  {
   "cell_type": "code",
   "execution_count": null,
   "id": "1154e4f6",
   "metadata": {},
   "outputs": [],
   "source": [
    "def function_name_mapping(workflow):\n",
    "    func_mapping = {}\n",
    "    roots = workflow.roots()\n",
    "    for result, task_tuple in workflow._tasks.items():\n",
    "        if result not in roots:\n",
    "            func = task_tuple[0]\n",
    "            funcname = func.__name__\n",
    "            if result.endswith(']'):\n",
    "                new_funcname = funcname + ' ' + result[-3:]\n",
    "                func_mapping[result] = new_funcname\n",
    "            else:\n",
    "                func_mapping[result] = funcname\n",
    "    return func_mapping \n",
    "\n",
    "def old_wf_names_to_new_mapping(func_name_mapping):\n",
    "    \"\"\"\n",
    "    Returns a dictionary mapping old workflow step names to new ones\n",
    "    based on the names of the new functions\n",
    "\n",
    "    Parameters\n",
    "    ----------\n",
    "    func_name_mapping: dict \n",
    "        dictionary mapping the old workflow step name to the new function\n",
    "        names\n",
    "    \"\"\"\n",
    "    mapping = {}\n",
    "    for old_key, func_name in func_name_mapping:\n",
    "        new_name = 'Result of ' + func_name\n",
    "        mapping[old_key] = new_name\n",
    "    \n",
    "    return mapping"
   ]
  }
 ],
 "metadata": {
  "kernelspec": {
   "display_name": "Python 3 (ipykernel)",
   "language": "python",
   "name": "python3"
  },
  "language_info": {
   "codemirror_mode": {
    "name": "ipython",
    "version": 3
   },
   "file_extension": ".py",
   "mimetype": "text/x-python",
   "name": "python",
   "nbconvert_exporter": "python",
   "pygments_lexer": "ipython3",
   "version": "3.10.2"
  }
 },
 "nbformat": 4,
 "nbformat_minor": 5
}
