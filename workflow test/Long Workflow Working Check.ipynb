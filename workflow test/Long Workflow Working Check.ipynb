{
 "cells": [
  {
   "cell_type": "code",
   "execution_count": 1,
   "id": "236726b0",
   "metadata": {},
   "outputs": [
    {
     "name": "stdout",
     "output_type": "stream",
     "text": [
      "Workflow:\n",
      "Result of Black top-hat (scipy, nsbatwm) <- (<function black_tophat at 0x0000016325E52950>, 'Result of Percentile (scipy, nsbatwm)', 16.0)\n",
      "Result of Gaussian (scikit-image, nsbatwm) <- (<function gaussian_blur at 0x0000016325E523B0>, 'blobs', 4.0)\n",
      "Result of Gaussian (scikit-image, nsbatwm) [1] <- (<function gaussian_blur at 0x0000016325E523B0>, 'blobs_messed_up', 8.0)\n",
      "Result of Minimum (scipy, nsbatwm) <- (<function minimum_filter at 0x0000016325E52A70>, 'Result of Gaussian (scikit-image, nsbatwm)', 3.0)\n",
      "Result of Multiply images (numpy, nsbatwm) <- (<function multiply_images at 0x0000016325E539A0>, 'Result of Black top-hat (scipy, nsbatwm)', 'Result of Minimum (scipy, nsbatwm)')\n",
      "Result of Percentile (scipy, nsbatwm) <- (<function percentile_filter at 0x0000016325E52710>, 'Result of Gaussian (scikit-image, nsbatwm) [1]', 7.0, 9.0)\n",
      "Result of Remove labeled objects at the image border (scikit-image, nsbatwm) <- (<function remove_labels_on_edges at 0x0000016325E53130>, 'Result of Seeded watershed using local minima as seeds (nsbatwm)')\n",
      "Result of Seeded watershed using local minima as seeds (nsbatwm) <- (<function local_minima_seeded_watershed at 0x0000016325E53640>, 'Result of Multiply images (numpy, nsbatwm)', 9.0, 8.0)\n",
      "\n"
     ]
    }
   ],
   "source": [
    "import napari_workflows\n",
    "from napari_workflows._io_yaml_v1 import load_workflow\n",
    "import napari\n",
    "import napari_pyclesperanto_assistant\n",
    "from napari_pyclesperanto_assistant._workflow_io_utility import *\n",
    "from skimage.io import imread\n",
    "\n",
    "filename = 'test_workflow_long.yaml'\n",
    "workflow = load_workflow(filename)\n",
    "print(workflow)"
   ]
  },
  {
   "cell_type": "code",
   "execution_count": 2,
   "id": "0a816ba5",
   "metadata": {},
   "outputs": [
    {
     "name": "stderr",
     "output_type": "stream",
     "text": [
      "C:\\Users\\ryans\\anaconda3\\envs\\np_workflows_v1\\lib\\site-packages\\napari_tools_menu\\__init__.py:165: FutureWarning: Public access to Window.qt_viewer is deprecated and will be removed in\n",
      "v0.5.0. It is considered an \"implementation detail\" of the napari\n",
      "application, not part of the napari viewer model. If your use case\n",
      "requires access to qt_viewer, please open an issue to discuss.\n",
      "  self.tools_menu = ToolsMenu(self, self.qt_viewer.viewer)\n"
     ]
    },
    {
     "data": {
      "text/plain": [
       "<Image layer 'image2' at 0x16325a73940>"
      ]
     },
     "execution_count": 2,
     "metadata": {},
     "output_type": "execute_result"
    }
   ],
   "source": [
    "desktop = 'C:/Users/ryans/Desktop/'\n",
    "#desktop = 'C:/Users/ryans/Onedrive/Desktop/'\n",
    "\n",
    "image1 = imread(desktop + 'blobs.tif')\n",
    "image2 = imread(desktop + 'blobs_messed_up.tiff')\n",
    "\n",
    "viewer = napari.Viewer()\n",
    "viewer.add_image(image1)\n",
    "viewer.add_image(image2)"
   ]
  },
  {
   "cell_type": "code",
   "execution_count": 3,
   "id": "c77a52ac",
   "metadata": {},
   "outputs": [],
   "source": [
    "initialise_root_functions(workflow=workflow, \n",
    "                          viewer=viewer)"
   ]
  },
  {
   "cell_type": "code",
   "execution_count": 4,
   "id": "f9893663",
   "metadata": {},
   "outputs": [
    {
     "name": "stderr",
     "output_type": "stream",
     "text": [
      "WARNING: QObject::connect: Cannot queue arguments of type 'QVector<int>'\n",
      "(Make sure 'QVector<int>' is registered using qRegisterMetaType().)\n",
      "WARNING: QObject::connect: Cannot queue arguments of type 'QVector<int>'\n",
      "(Make sure 'QVector<int>' is registered using qRegisterMetaType().)\n",
      "WARNING: QObject::connect: Cannot queue arguments of type 'QVector<int>'\n",
      "(Make sure 'QVector<int>' is registered using qRegisterMetaType().)\n",
      "WARNING: QObject::connect: Cannot queue arguments of type 'QVector<int>'\n",
      "(Make sure 'QVector<int>' is registered using qRegisterMetaType().)\n",
      "WARNING: QObject::connect: Cannot queue arguments of type 'QVector<int>'\n",
      "(Make sure 'QVector<int>' is registered using qRegisterMetaType().)\n",
      "WARNING: QObject::connect: Cannot queue arguments of type 'QVector<int>'\n",
      "(Make sure 'QVector<int>' is registered using qRegisterMetaType().)\n",
      "WARNING: QObject::connect: Cannot queue arguments of type 'QVector<int>'\n",
      "(Make sure 'QVector<int>' is registered using qRegisterMetaType().)\n",
      "WARNING: QObject::connect: Cannot queue arguments of type 'QVector<int>'\n",
      "(Make sure 'QVector<int>' is registered using qRegisterMetaType().)\n",
      "WARNING: QObject::connect: Cannot queue arguments of type 'QVector<int>'\n",
      "(Make sure 'QVector<int>' is registered using qRegisterMetaType().)\n",
      "WARNING: QObject::connect: Cannot queue arguments of type 'QVector<int>'\n",
      "(Make sure 'QVector<int>' is registered using qRegisterMetaType().)\n",
      "WARNING: QObject::connect: Cannot queue arguments of type 'QVector<int>'\n",
      "(Make sure 'QVector<int>' is registered using qRegisterMetaType().)\n",
      "WARNING: QObject::connect: Cannot queue arguments of type 'QVector<int>'\n",
      "(Make sure 'QVector<int>' is registered using qRegisterMetaType().)\n",
      "WARNING: QObject::connect: Cannot queue arguments of type 'QVector<int>'\n",
      "(Make sure 'QVector<int>' is registered using qRegisterMetaType().)\n",
      "WARNING: QObject::connect: Cannot queue arguments of type 'QVector<int>'\n",
      "(Make sure 'QVector<int>' is registered using qRegisterMetaType().)\n",
      "WARNING: QObject::connect: Cannot queue arguments of type 'QVector<int>'\n",
      "(Make sure 'QVector<int>' is registered using qRegisterMetaType().)\n",
      "WARNING: QObject::connect: Cannot queue arguments of type 'QVector<int>'\n",
      "(Make sure 'QVector<int>' is registered using qRegisterMetaType().)\n",
      "WARNING: QObject::connect: Cannot queue arguments of type 'QVector<int>'\n",
      "(Make sure 'QVector<int>' is registered using qRegisterMetaType().)\n",
      "WARNING: QObject::connect: Cannot queue arguments of type 'QVector<int>'\n",
      "(Make sure 'QVector<int>' is registered using qRegisterMetaType().)\n",
      "WARNING: QObject::connect: Cannot queue arguments of type 'QVector<int>'\n",
      "(Make sure 'QVector<int>' is registered using qRegisterMetaType().)\n",
      "WARNING: QObject::connect: Cannot queue arguments of type 'QVector<int>'\n",
      "(Make sure 'QVector<int>' is registered using qRegisterMetaType().)\n",
      "WARNING: QObject::connect: Cannot queue arguments of type 'QVector<int>'\n",
      "(Make sure 'QVector<int>' is registered using qRegisterMetaType().)\n",
      "WARNING: QObject::connect: Cannot queue arguments of type 'QVector<int>'\n",
      "(Make sure 'QVector<int>' is registered using qRegisterMetaType().)\n",
      "WARNING: QObject::connect: Cannot queue arguments of type 'QVector<int>'\n",
      "(Make sure 'QVector<int>' is registered using qRegisterMetaType().)\n",
      "WARNING: QObject::connect: Cannot queue arguments of type 'QVector<int>'\n",
      "(Make sure 'QVector<int>' is registered using qRegisterMetaType().)\n",
      "WARNING: QObject::connect: Cannot queue arguments of type 'QVector<int>'\n",
      "(Make sure 'QVector<int>' is registered using qRegisterMetaType().)\n",
      "WARNING: QObject::connect: Cannot queue arguments of type 'QVector<int>'\n",
      "(Make sure 'QVector<int>' is registered using qRegisterMetaType().)\n",
      "WARNING: QObject::connect: Cannot queue arguments of type 'QVector<int>'\n",
      "(Make sure 'QVector<int>' is registered using qRegisterMetaType().)\n",
      "WARNING: QObject::connect: Cannot queue arguments of type 'QVector<int>'\n",
      "(Make sure 'QVector<int>' is registered using qRegisterMetaType().)\n"
     ]
    }
   ],
   "source": [
    "load_remaining_workflow(workflow=workflow, \n",
    "                          viewer=viewer)"
   ]
  },
  {
   "cell_type": "code",
   "execution_count": null,
   "id": "284aa3de",
   "metadata": {},
   "outputs": [],
   "source": []
  }
 ],
 "metadata": {
  "kernelspec": {
   "display_name": "Python 3 (ipykernel)",
   "language": "python",
   "name": "python3"
  },
  "language_info": {
   "codemirror_mode": {
    "name": "ipython",
    "version": 3
   },
   "file_extension": ".py",
   "mimetype": "text/x-python",
   "name": "python",
   "nbconvert_exporter": "python",
   "pygments_lexer": "ipython3",
   "version": "3.10.2"
  }
 },
 "nbformat": 4,
 "nbformat_minor": 5
}
