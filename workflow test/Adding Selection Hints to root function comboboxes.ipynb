{
 "cells": [
  {
   "cell_type": "code",
   "execution_count": 1,
   "id": "d32c7209",
   "metadata": {},
   "outputs": [
    {
     "name": "stdout",
     "output_type": "stream",
     "text": [
      "Workflow:\n",
      "Result of Black top-hat (scipy, nsbatwm) <- (<function black_tophat at 0x000001CA911324C0>, 'Result of Percentile (scipy, nsbatwm)', 16.0)\n",
      "Result of Gaussian (scikit-image, nsbatwm) <- (<function gaussian_blur at 0x000001CA910CCEE0>, 'blobs', 4.0)\n",
      "Result of Gaussian (scikit-image, nsbatwm) [1] <- (<function gaussian_blur at 0x000001CA910CCEE0>, 'blobs_messed_up', 8.0)\n",
      "Result of Minimum (scipy, nsbatwm) <- (<function minimum_filter at 0x000001CA911325E0>, 'Result of Gaussian (scikit-image, nsbatwm)', 3.0)\n",
      "Result of Multiply images (numpy, nsbatwm) <- (<function multiply_images at 0x000001CA91135670>, 'Result of Black top-hat (scipy, nsbatwm)', 'Result of Minimum (scipy, nsbatwm)')\n",
      "Result of Percentile (scipy, nsbatwm) <- (<function percentile_filter at 0x000001CA91132280>, 'Result of Gaussian (scikit-image, nsbatwm) [1]', 7.0, 9.0)\n",
      "Result of Remove labeled objects at the image border (scikit-image, nsbatwm) <- (<function remove_labels_on_edges at 0x000001CA91132CA0>, 'Result of Seeded watershed using local minima as seeds (nsbatwm)')\n",
      "Result of Seeded watershed using local minima as seeds (nsbatwm) <- (<function local_minima_seeded_watershed at 0x000001CA91135310>, 'Result of Multiply images (numpy, nsbatwm)', 9.0, 8.0)\n",
      "\n"
     ]
    }
   ],
   "source": [
    "import napari_workflows\n",
    "from napari_workflows._io_yaml_v1 import load_workflow\n",
    "import napari\n",
    "import napari_pyclesperanto_assistant\n",
    "from napari_pyclesperanto_assistant._workflow_io_utility import *\n",
    "from skimage.io import imread\n",
    "\n",
    "filename = 'test_workflow_long.yaml'\n",
    "workflow = load_workflow(filename)\n",
    "print(workflow)"
   ]
  },
  {
   "cell_type": "code",
   "execution_count": 2,
   "id": "3a3634f1",
   "metadata": {},
   "outputs": [
    {
     "name": "stderr",
     "output_type": "stream",
     "text": [
      "C:\\Users\\ryans\\Anaconda3\\envs\\np_workflows_v1\\lib\\site-packages\\napari_tools_menu\\__init__.py:165: FutureWarning: Public access to Window.qt_viewer is deprecated and will be removed in\n",
      "v0.5.0. It is considered an \"implementation detail\" of the napari\n",
      "application, not part of the napari viewer model. If your use case\n",
      "requires access to qt_viewer, please open an issue to discuss.\n",
      "  self.tools_menu = ToolsMenu(self, self.qt_viewer.viewer)\n"
     ]
    },
    {
     "data": {
      "text/plain": [
       "<Image layer 'image2' at 0x1ca911def10>"
      ]
     },
     "execution_count": 2,
     "metadata": {},
     "output_type": "execute_result"
    }
   ],
   "source": [
    "#desktop = 'C:/Users/ryans/Desktop/'\n",
    "desktop = 'C:/Users/ryans/Onedrive/Desktop/'\n",
    "\n",
    "image1 = imread(desktop + 'blobs.tif')\n",
    "image2 = imread(desktop + 'blobs_messed_up.tiff')\n",
    "\n",
    "viewer = napari.Viewer()\n",
    "viewer.add_image(image1)\n",
    "viewer.add_image(image2)"
   ]
  },
  {
   "cell_type": "code",
   "execution_count": 3,
   "id": "1ca88880",
   "metadata": {},
   "outputs": [],
   "source": [
    "root_functions = wf_steps_with_root_as_input(workflow)\n",
    "\n",
    "wf_step_name = root_functions[0]\n",
    "\n",
    "func = workflow._tasks[wf_step_name][0]\n",
    "signat = signature_w_kwargs_from_function(workflow=workflow,\n",
    "                                          wf_step_name=wf_step_name)\n",
    "func.__signature__ = signat\n",
    "\n",
    "widget = make_flexible_gui(func, \n",
    "                           viewer, \n",
    "                           wf_step_name= wf_step_name)"
   ]
  },
  {
   "cell_type": "code",
   "execution_count": 4,
   "id": "4fe89cea",
   "metadata": {},
   "outputs": [
    {
     "data": {
      "text/plain": [
       "[('image', 'blobs')]"
      ]
     },
     "execution_count": 4,
     "metadata": {},
     "output_type": "execute_result"
    }
   ],
   "source": [
    "def get_source_keywords_and_sources(workflow,wf_step):\n",
    "    from inspect import signature\n",
    "    func = workflow._tasks[wf_step][0]\n",
    "    args = workflow._tasks[wf_step][1:]\n",
    "    \n",
    "    sources = workflow.sources_of(wf_step)\n",
    "    keyword_list = list(signature(func).parameters.keys())\n",
    "    image_keywords = [(key,value) for key, value in zip(keyword_list,args) if value in sources]\n",
    "    \n",
    "    return image_keywords\n",
    "\n",
    "key_source_list = get_source_keywords_and_sources(workflow,\n",
    "                                                  wf_step=wf_step_name)\n",
    "key_source_list"
   ]
  },
  {
   "cell_type": "code",
   "execution_count": 5,
   "id": "60096ea8",
   "metadata": {},
   "outputs": [
    {
     "data": {
      "image/png": "[encoded data removed]",
      "text/plain": [
       "<FunctionGui gaussian_blur(image: <function NewType.<locals>.new_type at 0x000001CA84B6AE50> = None, *, sigma: float = 4.0, viewer: napari.viewer.Viewer = None) -> <function NewType.<locals>.new_type at 0x000001CA84B6AE50>>"
      ]
     },
     "execution_count": 5,
     "metadata": {},
     "output_type": "execute_result"
    }
   ],
   "source": [
    "for key, source in key_source_list:\n",
    "    widget[key].tooltip = f'Select {source} or equivalent'\n",
    "\n",
    "widget"
   ]
  },
  {
   "cell_type": "code",
   "execution_count": 6,
   "id": "30ca10f1",
   "metadata": {},
   "outputs": [
    {
     "data": {
      "text/plain": [
       "<napari._qt.widgets.qt_viewer_dock_widget.QtViewerDockWidget at 0x1ca9c98a550>"
      ]
     },
     "execution_count": 6,
     "metadata": {},
     "output_type": "execute_result"
    }
   ],
   "source": [
    "viewer.window.add_dock_widget(widget, name = wf_step_name[10:])# + '<b> - SELECT INPUT</b>')"
   ]
  },
  {
   "cell_type": "code",
   "execution_count": null,
   "id": "39d95611",
   "metadata": {},
   "outputs": [],
   "source": []
  }
 ],
 "metadata": {
  "kernelspec": {
   "display_name": "Python 3 (ipykernel)",
   "language": "python",
   "name": "python3"
  },
  "language_info": {
   "codemirror_mode": {
    "name": "ipython",
    "version": 3
   },
   "file_extension": ".py",
   "mimetype": "text/x-python",
   "name": "python",
   "nbconvert_exporter": "python",
   "pygments_lexer": "ipython3",
   "version": "3.9.7"
  }
 },
 "nbformat": 4,
 "nbformat_minor": 5
}
